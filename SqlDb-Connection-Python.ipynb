{
 "cells": [
  {
   "cell_type": "code",
   "execution_count": 1,
   "id": "284bb249-2016-49a0-97c3-92a05bf36400",
   "metadata": {},
   "outputs": [
    {
     "name": "stdout",
     "output_type": "stream",
     "text": [
      "Defaulting to user installation because normal site-packages is not writeable\n",
      "Requirement already satisfied: pyodbc in c:\\programdata\\anaconda3\\lib\\site-packages (5.0.1)\n",
      "Note: you may need to restart the kernel to use updated packages.\n"
     ]
    }
   ],
   "source": [
    "pip install pyodbc"
   ]
  },
  {
   "cell_type": "code",
   "execution_count": 1,
   "id": "e70b8f96-9dbf-4664-83f8-03386ff8fc2d",
   "metadata": {},
   "outputs": [],
   "source": [
    "import pyodbc"
   ]
  },
  {
   "cell_type": "code",
   "execution_count": null,
   "id": "de43c9d8-eee4-44fa-af89-cbf72a2e1dcf",
   "metadata": {},
   "outputs": [],
   "source": [
    "# Define the connection parameters\n",
    "#server = 'your_server_name'  # e.g., 'localhost\\SQLEXPRESS'\n",
    "#database = 'your_database_name'  # e.g., 'TestDB'\n",
    "#username = 'your_username'  # e.g., 'sa'\n",
    "#password = 'your_password'  # e.g., 'your_password'\n",
    "#driver = '{ODBC Driver 17 for SQL Server}'  # The ODBC driver to use\n",
    "\n"
   ]
  },
  {
   "cell_type": "code",
   "execution_count": null,
   "id": "0d68b833-a86b-4576-b6a9-af81367d9676",
   "metadata": {},
   "outputs": [],
   "source": [
    "# Establish the connection\n",
    "#conn = pyodbc.connect(\n",
    "#    f'DRIVER={driver};SERVER={server};DATABASE={database};UID={username};PWD={password}'\n",
    "#)"
   ]
  },
  {
   "cell_type": "code",
   "execution_count": 3,
   "id": "f157d7e6-2aba-43a9-be73-9a05741083e5",
   "metadata": {},
   "outputs": [],
   "source": [
    "# Define the connection parameters\n",
    "server = 'DESKTOP-F1APTNC\\SQLEXPRESS'  # e.g., 'localhost\\SQLEXPRESS'\n",
    "database = 'EmpDb'  # e.g., 'TestDB'\n",
    "driver = '{ODBC Driver 17 for SQL Server}'  # The ODBC driver to use\n",
    "\n"
   ]
  },
  {
   "cell_type": "code",
   "execution_count": null,
   "id": "0107a70b-a05b-40d6-bfde-8a39a992728c",
   "metadata": {},
   "outputs": [],
   "source": [
    "# Establish the connection using Windows Authentication\n",
    "conn = pyodbc.connect(\n",
    "    f'DRIVER={driver};SERVER={server};DATABASE={database};Trusted_Connection=yes;'\n",
    ")"
   ]
  },
  {
   "cell_type": "code",
   "execution_count": 5,
   "id": "ef73d805-4160-4ad4-9f69-6726578c22b3",
   "metadata": {},
   "outputs": [
    {
     "name": "stdout",
     "output_type": "stream",
     "text": [
      "Data inserted successfully.\n"
     ]
    }
   ],
   "source": [
    "# Create a cursor object\n",
    "cursor = conn.cursor()\n",
    "\n",
    "# Define the insert statement and the data to insert\n",
    "insert_statement = \"\"\"\n",
    "INSERT INTO Test1 (column1, column2, column3)\n",
    "VALUES (?, ?, ?)\n",
    "\"\"\"\n",
    "data = ('A2', 'B2', 'C2')\n",
    "\n",
    "# Execute the insert statement\n",
    "cursor.execute(insert_statement, data)\n",
    "\n",
    "# Commit the transaction\n",
    "conn.commit()\n",
    "\n",
    "# Close the connection\n",
    "cursor.close()\n",
    "conn.close()\n",
    "\n",
    "print(\"Data inserted successfully.\")"
   ]
  },
  {
   "cell_type": "code",
   "execution_count": null,
   "id": "c3ee8d0c-e2a2-4af9-abc7-c8eff0e78829",
   "metadata": {},
   "outputs": [],
   "source": []
  }
 ],
 "metadata": {
  "kernelspec": {
   "display_name": "Python 3",
   "language": "python",
   "name": "python3"
  },
  "language_info": {
   "codemirror_mode": {
    "name": "ipython",
    "version": 3
   },
   "file_extension": ".py",
   "mimetype": "text/x-python",
   "name": "python",
   "nbconvert_exporter": "python",
   "pygments_lexer": "ipython3",
   "version": "3.11.7"
  }
 },
 "nbformat": 4,
 "nbformat_minor": 5
}
